{
 "cells": [
  {
   "cell_type": "code",
   "execution_count": null,
   "metadata": {},
   "outputs": [],
   "source": [
    "import numpy as np\n",
    "import pandas as pd\n",
    "import plotly.express as px\n",
    "import plotly.offline as pyo\n",
    "import plotly.graph_objs as go\n",
    "import seaborn as sns\n",
    "import matplotlib.pyplot as plt\n",
    "\n",
    "pd.options.display.float_format = '{:.2f}'.format\n",
    "col = px.colors.qualitative.Pastel"
   ]
  },
  {
   "cell_type": "code",
   "execution_count": null,
   "metadata": {},
   "outputs": [],
   "source": [
    "#새로 만든 데이터셋 불러오기\n",
    "\n",
    "kr = pd.read_csv('iem_kr.csv')\n",
    "oss = pd.read_csv('iem_oss.csv')\n",
    "act_cus = pd.read_csv('act_cus.csv')\n",
    "cus_info = pd.read_csv('cus_info.csv')"
   ]
  },
  {
   "cell_type": "code",
   "execution_count": null,
   "metadata": {},
   "outputs": [],
   "source": [
    "#국내 거래 건수 시각화\n",
    "\n",
    "df = cus_info.groupby(by=['age_cat']).mean().reset_index()\n",
    "\n",
    "trace3 = go.Bar(x=df.age_cat, y=df.sell_num_kr, name='매도',marker_color=col[0])\n",
    "trace4 = go.Bar(x=df.age_cat, y=df.buy_num_kr, name='매수',marker_color=col[3])\n",
    "\n",
    "data = [trace3, trace4]\n",
    "\n",
    "layout = go.Layout(title='고객별 국내 거래 건수(평균)', barmode='stack',)\n",
    "\n",
    "fig = go.Figure(data=data, layout=layout)\n",
    "pyo.iplot(fig)"
   ]
  }
 ],
 "metadata": {
  "kernelspec": {
   "display_name": "Python 3",
   "language": "python",
   "name": "python3"
  },
  "language_info": {
   "codemirror_mode": {
    "name": "ipython",
    "version": 3
   },
   "file_extension": ".py",
   "mimetype": "text/x-python",
   "name": "python",
   "nbconvert_exporter": "python",
   "pygments_lexer": "ipython3",
   "version": "3.8.2"
  }
 },
 "nbformat": 4,
 "nbformat_minor": 4
}
