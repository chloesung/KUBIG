{
  "nbformat": 4,
  "nbformat_minor": 0,
  "metadata": {
    "kernelspec": {
      "display_name": "Python 3",
      "language": "python",
      "name": "python3"
    },
    "language_info": {
      "codemirror_mode": {
        "name": "ipython",
        "version": 3
      },
      "file_extension": ".py",
      "mimetype": "text/x-python",
      "name": "python",
      "nbconvert_exporter": "python",
      "pygments_lexer": "ipython3",
      "version": "3.6.10"
    },
    "colab": {
      "name": "tsp_50_출근시간데이터.ipynb",
      "provenance": []
    }
  },
  "cells": [
    {
      "cell_type": "code",
      "metadata": {
        "id": "Unn-1p3U2RLR"
      },
      "source": [
        "import pandas as pd\n",
        "import mlrose\n",
        "import numpy as np\n",
        "\n",
        "# 참고 사이트: https://towardsdatascience.com/solving-travelling-salesperson-problems-with-python-5de7e883d847"
      ],
      "execution_count": null,
      "outputs": []
    },
    {
      "cell_type": "code",
      "metadata": {
        "id": "YMaMDtD32RLW",
        "outputId": "69de9fde-98ce-4e71-89d5-3ef37aaa1e18"
      },
      "source": [
        "on_79 = pd.read_csv(\"point_79_on.csv\")\n",
        "on_79.head()\n",
        "# 출근시간 가장 많이 탑승하는 데이터 가지고 분석\n",
        "# 지금은 이렇게 하지만, 추후 출근-퇴근 둘을 섞어서 분석할 예정\n",
        "# 아닌가? 다람쥐버스면 차라리 한곳을 지나는버스가 더 나을수도\n",
        "# 디익스트라 사용하는게 출퇴근 둘다 사용하고, 이런 다람쥐버스는 그냥 한 지역 도는게 나을수도 있겠다.\n",
        "# 조금 더 고민해볼 예정"
      ],
      "execution_count": null,
      "outputs": [
        {
          "output_type": "execute_result",
          "data": {
            "text/html": [
              "<div>\n",
              "<style scoped>\n",
              "    .dataframe tbody tr th:only-of-type {\n",
              "        vertical-align: middle;\n",
              "    }\n",
              "\n",
              "    .dataframe tbody tr th {\n",
              "        vertical-align: top;\n",
              "    }\n",
              "\n",
              "    .dataframe thead th {\n",
              "        text-align: right;\n",
              "    }\n",
              "</style>\n",
              "<table border=\"1\" class=\"dataframe\">\n",
              "  <thead>\n",
              "    <tr style=\"text-align: right;\">\n",
              "      <th></th>\n",
              "      <th>Unnamed: 0</th>\n",
              "      <th>이비카드정류장ID</th>\n",
              "      <th>정류장이름</th>\n",
              "      <th>위도</th>\n",
              "      <th>경도</th>\n",
              "      <th>횟수</th>\n",
              "    </tr>\n",
              "  </thead>\n",
              "  <tbody>\n",
              "    <tr>\n",
              "      <th>0</th>\n",
              "      <td>316</td>\n",
              "      <td>4197607.0</td>\n",
              "      <td>서동탄역신일해피트리(중)</td>\n",
              "      <td>37.199500</td>\n",
              "      <td>127.052483</td>\n",
              "      <td>317.0</td>\n",
              "    </tr>\n",
              "    <tr>\n",
              "      <th>1</th>\n",
              "      <td>808</td>\n",
              "      <td>4197590.0</td>\n",
              "      <td>솔빛마을.서해.쌍용아파트</td>\n",
              "      <td>37.195817</td>\n",
              "      <td>127.069633</td>\n",
              "      <td>304.0</td>\n",
              "    </tr>\n",
              "    <tr>\n",
              "      <th>2</th>\n",
              "      <td>1143</td>\n",
              "      <td>4116691.0</td>\n",
              "      <td>안녕농협삼거리</td>\n",
              "      <td>37.205217</td>\n",
              "      <td>127.014700</td>\n",
              "      <td>335.0</td>\n",
              "    </tr>\n",
              "    <tr>\n",
              "      <th>3</th>\n",
              "      <td>1649</td>\n",
              "      <td>4117227.0</td>\n",
              "      <td>수원대학교</td>\n",
              "      <td>37.213750</td>\n",
              "      <td>126.980150</td>\n",
              "      <td>506.0</td>\n",
              "    </tr>\n",
              "    <tr>\n",
              "      <th>4</th>\n",
              "      <td>2030</td>\n",
              "      <td>4197467.0</td>\n",
              "      <td>한빛마을(중)</td>\n",
              "      <td>37.207567</td>\n",
              "      <td>127.069200</td>\n",
              "      <td>381.0</td>\n",
              "    </tr>\n",
              "  </tbody>\n",
              "</table>\n",
              "</div>"
            ],
            "text/plain": [
              "   Unnamed: 0  이비카드정류장ID          정류장이름         위도          경도     횟수\n",
              "0         316  4197607.0  서동탄역신일해피트리(중)  37.199500  127.052483  317.0\n",
              "1         808  4197590.0  솔빛마을.서해.쌍용아파트  37.195817  127.069633  304.0\n",
              "2        1143  4116691.0        안녕농협삼거리  37.205217  127.014700  335.0\n",
              "3        1649  4117227.0          수원대학교  37.213750  126.980150  506.0\n",
              "4        2030  4197467.0        한빛마을(중)  37.207567  127.069200  381.0"
            ]
          },
          "metadata": {
            "tags": []
          },
          "execution_count": 2
        }
      ]
    },
    {
      "cell_type": "code",
      "metadata": {
        "id": "i3ZtQdbd2RLa"
      },
      "source": [
        "subset = on_79[['위도', '경도']]\n",
        "tuple_on79 = [tuple(x) for x in subset.to_numpy()]\n",
        "\n",
        "# 위도 경도 정보를 튜플형태 리스트로"
      ],
      "execution_count": null,
      "outputs": []
    },
    {
      "cell_type": "code",
      "metadata": {
        "id": "o-YerP5B2RLd"
      },
      "source": [
        "fitness_coords = mlrose.TravellingSales(coords = tuple_on79)"
      ],
      "execution_count": null,
      "outputs": []
    },
    {
      "cell_type": "code",
      "metadata": {
        "id": "TfK5g-Te2RLh"
      },
      "source": [
        "problem_fit = mlrose.TSPOpt(length=50, fitness_fn = fitness_coords, maximize=False)"
      ],
      "execution_count": null,
      "outputs": []
    },
    {
      "cell_type": "code",
      "metadata": {
        "id": "0y7gxV6f2RLk",
        "outputId": "3422f093-afa0-4550-d5fb-3fa4a9192528"
      },
      "source": [
        "best_state, best_fitness = mlrose.genetic_alg(problem_fit, random_state = 2)\n",
        "\n",
        "print('The best state found is: \\n', best_state)\n",
        "# the order of visiting, the number is the index of the dataframe\n",
        "print('The fitness at the best state is:\\n ', best_fitness)"
      ],
      "execution_count": null,
      "outputs": [
        {
          "output_type": "stream",
          "text": [
            "The best state found is: \n",
            " [42 25 37 20 44  7  0 28 49 40 39 10  4 34 27 18 13 14 35 11 36 43 29  2\n",
            " 12 45  9 46 48 32 24 38 16  3 21 22  8 23 15 19 17  5 31 33  6 30 41 47\n",
            "  1 26]\n",
            "The fitness at the best state is:\n",
            "  2.0961449799745417\n"
          ],
          "name": "stdout"
        }
      ]
    },
    {
      "cell_type": "code",
      "metadata": {
        "id": "aXmC1kAC2RLm"
      },
      "source": [
        "import folium \n",
        "import folium.plugins\n",
        "\n",
        "# folium for visualization"
      ],
      "execution_count": null,
      "outputs": []
    },
    {
      "cell_type": "code",
      "metadata": {
        "id": "km7VK1Zo2RLp"
      },
      "source": [
        "latitude = 37.136881\n",
        "longitude = 127.036171\n",
        "\n",
        "# 화성시 위도경도"
      ],
      "execution_count": null,
      "outputs": []
    },
    {
      "cell_type": "code",
      "metadata": {
        "id": "nqMjHURU2RLr"
      },
      "source": [
        "m = folium.Map(location=[latitude, longitude], zoom_start=12)"
      ],
      "execution_count": null,
      "outputs": []
    },
    {
      "cell_type": "code",
      "metadata": {
        "id": "bcPvt0ec2RLt"
      },
      "source": [
        "# best_state: index 순서\n",
        "# on_79 df 사용해서 folium에 길 그리기\n",
        "\n",
        "# reindex using the tsp result\n",
        "new_index = best_state\n",
        "replaced = on_79.reindex(new_index)"
      ],
      "execution_count": null,
      "outputs": []
    },
    {
      "cell_type": "code",
      "metadata": {
        "id": "Nn2ZJWrP2RLv",
        "outputId": "568e2f4c-f0ed-472f-8877-eab2f102439a"
      },
      "source": [
        "replaced.head()\n",
        "# replaced dataframe은 TSP 알고리즘에서 방문 순서대로"
      ],
      "execution_count": null,
      "outputs": [
        {
          "output_type": "execute_result",
          "data": {
            "text/html": [
              "<div>\n",
              "<style scoped>\n",
              "    .dataframe tbody tr th:only-of-type {\n",
              "        vertical-align: middle;\n",
              "    }\n",
              "\n",
              "    .dataframe tbody tr th {\n",
              "        vertical-align: top;\n",
              "    }\n",
              "\n",
              "    .dataframe thead th {\n",
              "        text-align: right;\n",
              "    }\n",
              "</style>\n",
              "<table border=\"1\" class=\"dataframe\">\n",
              "  <thead>\n",
              "    <tr style=\"text-align: right;\">\n",
              "      <th></th>\n",
              "      <th>Unnamed: 0</th>\n",
              "      <th>이비카드정류장ID</th>\n",
              "      <th>정류장이름</th>\n",
              "      <th>위도</th>\n",
              "      <th>경도</th>\n",
              "      <th>횟수</th>\n",
              "    </tr>\n",
              "  </thead>\n",
              "  <tbody>\n",
              "    <tr>\n",
              "      <th>42</th>\n",
              "      <td>29209</td>\n",
              "      <td>4121766.0</td>\n",
              "      <td>한미약품.푸르지오</td>\n",
              "      <td>37.209233</td>\n",
              "      <td>127.09185</td>\n",
              "      <td>288.0</td>\n",
              "    </tr>\n",
              "    <tr>\n",
              "      <th>25</th>\n",
              "      <td>16758</td>\n",
              "      <td>4108031.0</td>\n",
              "      <td>삼성반도체</td>\n",
              "      <td>37.225083</td>\n",
              "      <td>127.06400</td>\n",
              "      <td>343.0</td>\n",
              "    </tr>\n",
              "    <tr>\n",
              "      <th>37</th>\n",
              "      <td>26154</td>\n",
              "      <td>4130130.0</td>\n",
              "      <td>한일타운아파트</td>\n",
              "      <td>37.200333</td>\n",
              "      <td>127.03770</td>\n",
              "      <td>413.0</td>\n",
              "    </tr>\n",
              "    <tr>\n",
              "      <th>20</th>\n",
              "      <td>12117</td>\n",
              "      <td>4170973.0</td>\n",
              "      <td>메타폴리스(중)</td>\n",
              "      <td>37.203700</td>\n",
              "      <td>127.06750</td>\n",
              "      <td>694.0</td>\n",
              "    </tr>\n",
              "    <tr>\n",
              "      <th>44</th>\n",
              "      <td>32966</td>\n",
              "      <td>4170723.0</td>\n",
              "      <td>우남퍼스트빌</td>\n",
              "      <td>37.203167</td>\n",
              "      <td>127.09860</td>\n",
              "      <td>312.0</td>\n",
              "    </tr>\n",
              "  </tbody>\n",
              "</table>\n",
              "</div>"
            ],
            "text/plain": [
              "    Unnamed: 0  이비카드정류장ID      정류장이름         위도         경도     횟수\n",
              "42       29209  4121766.0  한미약품.푸르지오  37.209233  127.09185  288.0\n",
              "25       16758  4108031.0      삼성반도체  37.225083  127.06400  343.0\n",
              "37       26154  4130130.0    한일타운아파트  37.200333  127.03770  413.0\n",
              "20       12117  4170973.0   메타폴리스(중)  37.203700  127.06750  694.0\n",
              "44       32966  4170723.0     우남퍼스트빌  37.203167  127.09860  312.0"
            ]
          },
          "metadata": {
            "tags": []
          },
          "execution_count": 20
        }
      ]
    },
    {
      "cell_type": "code",
      "metadata": {
        "id": "5AXe-gbx2RLy",
        "outputId": "246fe199-0142-4307-f012-038541e99539"
      },
      "source": [
        "# make list of longitude and latitude to draw routes in folium\n",
        "locations = replaced[['위도', '경도']]\n",
        "locationlist = locations.values.tolist()\n",
        "len(locationlist)\n",
        "# locationlist[0]"
      ],
      "execution_count": null,
      "outputs": [
        {
          "output_type": "execute_result",
          "data": {
            "text/plain": [
              "50"
            ]
          },
          "metadata": {
            "tags": []
          },
          "execution_count": 21
        }
      ]
    },
    {
      "cell_type": "code",
      "metadata": {
        "id": "sYc6w0s92RL0",
        "outputId": "fceeaa40-0b1b-4e71-a533-acf734a7eed7"
      },
      "source": [
        "import pandas as pd\n",
        "import requests\n",
        "from xml.etree import ElementTree\n",
        "import numpy as np\n",
        "import folium\n",
        "i=1\n",
        "\n",
        "for point in range(0, len(locationlist)):\n",
        "    # i: 방문순서, pop-up에 커서를 대면 순서가 나온다.\n",
        "    folium.Marker(locationlist[point], i).add_to(m)\n",
        "    i = i+1\n",
        "m\n",
        "\n",
        "# draw lines\n",
        "# add lines\n",
        "folium.PolyLine(locationlist, color=\"purple\", weight=2.5, opacity=1).add_to(m)"
      ],
      "execution_count": null,
      "outputs": [
        {
          "output_type": "execute_result",
          "data": {
            "text/plain": [
              "<folium.vector_layers.PolyLine at 0x7f6b0827f1d0>"
            ]
          },
          "metadata": {
            "tags": []
          },
          "execution_count": 22
        }
      ]
    },
    {
      "cell_type": "code",
      "metadata": {
        "scrolled": true,
        "id": "hSiPaYPC2RL2",
        "outputId": "89779d43-5479-456b-c66f-e5a8ac6b949c"
      },
      "source": [
        "m"
      ],
      "execution_count": null,
      "outputs": [
        {
          "output_type": "execute_result",
          "data": {
            "text/html": [
              "<div style=\"width:100%;\"><div style=\"position:relative;width:100%;height:0;padding-bottom:60%;\"><span style=\"color:#565656\">Make this Notebook Trusted to load map: File -> Trust Notebook</span><iframe src=\"about:blank\" style=\"position:absolute;width:100%;height:100%;left:0;top:0;border:none !important;\" data-html=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 onload=\"this.contentDocument.open();this.contentDocument.write(atob(this.getAttribute('data-html')));this.contentDocument.close();\" allowfullscreen webkitallowfullscreen mozallowfullscreen></iframe></div></div>"
            ],
            "text/plain": [
              "<folium.folium.Map at 0x7f6b09ab7358>"
            ]
          },
          "metadata": {
            "tags": []
          },
          "execution_count": 23
        }
      ]
    },
    {
      "cell_type": "code",
      "metadata": {
        "id": "Y7SWKGqU2RL4"
      },
      "source": [
        "m.save('index.html')"
      ],
      "execution_count": null,
      "outputs": []
    }
  ]
}