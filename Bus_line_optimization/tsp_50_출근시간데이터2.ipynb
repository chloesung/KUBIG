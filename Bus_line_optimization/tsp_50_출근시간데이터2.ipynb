{
  "nbformat": 4,
  "nbformat_minor": 0,
  "metadata": {
    "kernelspec": {
      "display_name": "Python 3",
      "language": "python",
      "name": "python3"
    },
    "language_info": {
      "codemirror_mode": {
        "name": "ipython",
        "version": 3
      },
      "file_extension": ".py",
      "mimetype": "text/x-python",
      "name": "python",
      "nbconvert_exporter": "python",
      "pygments_lexer": "ipython3",
      "version": "3.6.10"
    },
    "colab": {
      "name": "tsp_50_출근시간데이터2.ipynb",
      "provenance": []
    }
  },
  "cells": [
    {
      "cell_type": "code",
      "metadata": {
        "id": "S4s_nh0I2ks-"
      },
      "source": [
        "import pandas as pd\n",
        "import mlrose\n",
        "import numpy as np\n",
        "\n",
        "# 참고 사이트: https://towardsdatascience.com/solving-travelling-salesperson-problems-with-python-5de7e883d847"
      ],
      "execution_count": null,
      "outputs": []
    },
    {
      "cell_type": "code",
      "metadata": {
        "id": "29kZi1Y52ktD"
      },
      "source": [
        "on_79 = pd.read_csv(\"point_79_on.csv\")\n",
        "on_79 = on_79.iloc[:10]\n",
        "len(on_79)\n",
        "\n",
        "off_79 = pd.read_csv(\"point_79_off.csv\")\n",
        "off_79 = off_79.iloc[:10]\n",
        "len(off_79)\n",
        "\n",
        "# 승하차 데이터 둘을 섞어서 분석\n",
        "# 승차-하차 각각 가장 빈도 높은 정류장 10개씩 선택\n",
        "\n",
        "frames = [on_79, off_79]\n",
        "merge_79 = pd.concat(frames, ignore_index = True)"
      ],
      "execution_count": null,
      "outputs": []
    },
    {
      "cell_type": "code",
      "metadata": {
        "id": "E5_gjrys2ktF",
        "outputId": "9a5d8916-e86b-42e6-95da-51a17cc88a05"
      },
      "source": [
        "merge_79"
      ],
      "execution_count": null,
      "outputs": [
        {
          "output_type": "execute_result",
          "data": {
            "text/html": [
              "<div>\n",
              "<style scoped>\n",
              "    .dataframe tbody tr th:only-of-type {\n",
              "        vertical-align: middle;\n",
              "    }\n",
              "\n",
              "    .dataframe tbody tr th {\n",
              "        vertical-align: top;\n",
              "    }\n",
              "\n",
              "    .dataframe thead th {\n",
              "        text-align: right;\n",
              "    }\n",
              "</style>\n",
              "<table border=\"1\" class=\"dataframe\">\n",
              "  <thead>\n",
              "    <tr style=\"text-align: right;\">\n",
              "      <th></th>\n",
              "      <th>Unnamed: 0</th>\n",
              "      <th>이비카드정류장ID</th>\n",
              "      <th>정류장이름</th>\n",
              "      <th>위도</th>\n",
              "      <th>경도</th>\n",
              "      <th>횟수</th>\n",
              "    </tr>\n",
              "  </thead>\n",
              "  <tbody>\n",
              "    <tr>\n",
              "      <th>0</th>\n",
              "      <td>316</td>\n",
              "      <td>4197607.0</td>\n",
              "      <td>서동탄역신일해피트리(중)</td>\n",
              "      <td>37.199500</td>\n",
              "      <td>127.052483</td>\n",
              "      <td>317.0</td>\n",
              "    </tr>\n",
              "    <tr>\n",
              "      <th>1</th>\n",
              "      <td>808</td>\n",
              "      <td>4197590.0</td>\n",
              "      <td>솔빛마을.서해.쌍용아파트</td>\n",
              "      <td>37.195817</td>\n",
              "      <td>127.069633</td>\n",
              "      <td>304.0</td>\n",
              "    </tr>\n",
              "    <tr>\n",
              "      <th>2</th>\n",
              "      <td>1143</td>\n",
              "      <td>4116691.0</td>\n",
              "      <td>안녕농협삼거리</td>\n",
              "      <td>37.205217</td>\n",
              "      <td>127.014700</td>\n",
              "      <td>335.0</td>\n",
              "    </tr>\n",
              "    <tr>\n",
              "      <th>3</th>\n",
              "      <td>1649</td>\n",
              "      <td>4117227.0</td>\n",
              "      <td>수원대학교</td>\n",
              "      <td>37.213750</td>\n",
              "      <td>126.980150</td>\n",
              "      <td>506.0</td>\n",
              "    </tr>\n",
              "    <tr>\n",
              "      <th>4</th>\n",
              "      <td>2030</td>\n",
              "      <td>4197467.0</td>\n",
              "      <td>한빛마을(중)</td>\n",
              "      <td>37.207567</td>\n",
              "      <td>127.069200</td>\n",
              "      <td>381.0</td>\n",
              "    </tr>\n",
              "    <tr>\n",
              "      <th>5</th>\n",
              "      <td>2520</td>\n",
              "      <td>4116682.0</td>\n",
              "      <td>광도와이드빌.우남그린빌</td>\n",
              "      <td>37.226583</td>\n",
              "      <td>126.971883</td>\n",
              "      <td>490.0</td>\n",
              "    </tr>\n",
              "    <tr>\n",
              "      <th>6</th>\n",
              "      <td>3084</td>\n",
              "      <td>4170937.0</td>\n",
              "      <td>동탄2동행정복지센터</td>\n",
              "      <td>37.196417</td>\n",
              "      <td>127.072883</td>\n",
              "      <td>450.0</td>\n",
              "    </tr>\n",
              "    <tr>\n",
              "      <th>7</th>\n",
              "      <td>3720</td>\n",
              "      <td>4130058.0</td>\n",
              "      <td>신안2차.반도4차</td>\n",
              "      <td>37.200017</td>\n",
              "      <td>127.115967</td>\n",
              "      <td>366.0</td>\n",
              "    </tr>\n",
              "    <tr>\n",
              "      <th>8</th>\n",
              "      <td>4017</td>\n",
              "      <td>4170995.0</td>\n",
              "      <td>능리교차로</td>\n",
              "      <td>37.219117</td>\n",
              "      <td>127.057233</td>\n",
              "      <td>297.0</td>\n",
              "    </tr>\n",
              "    <tr>\n",
              "      <th>9</th>\n",
              "      <td>4345</td>\n",
              "      <td>4197554.0</td>\n",
              "      <td>쌍용예가</td>\n",
              "      <td>37.193500</td>\n",
              "      <td>127.071800</td>\n",
              "      <td>328.0</td>\n",
              "    </tr>\n",
              "    <tr>\n",
              "      <th>10</th>\n",
              "      <td>199</td>\n",
              "      <td>4108007.0</td>\n",
              "      <td>병점화남아파트</td>\n",
              "      <td>37.211967</td>\n",
              "      <td>127.037550</td>\n",
              "      <td>200.0</td>\n",
              "    </tr>\n",
              "    <tr>\n",
              "      <th>11</th>\n",
              "      <td>685</td>\n",
              "      <td>4108036.0</td>\n",
              "      <td>신영통현대타운.두산위브</td>\n",
              "      <td>37.235467</td>\n",
              "      <td>127.062467</td>\n",
              "      <td>399.0</td>\n",
              "    </tr>\n",
              "    <tr>\n",
              "      <th>12</th>\n",
              "      <td>1803</td>\n",
              "      <td>4117226.0</td>\n",
              "      <td>수원대학교</td>\n",
              "      <td>37.213750</td>\n",
              "      <td>126.979967</td>\n",
              "      <td>964.0</td>\n",
              "    </tr>\n",
              "    <tr>\n",
              "      <th>13</th>\n",
              "      <td>2400</td>\n",
              "      <td>4170943.0</td>\n",
              "      <td>상록.경남아파트.이주택지</td>\n",
              "      <td>37.206833</td>\n",
              "      <td>127.110567</td>\n",
              "      <td>412.0</td>\n",
              "    </tr>\n",
              "    <tr>\n",
              "      <th>14</th>\n",
              "      <td>2642</td>\n",
              "      <td>4170921.0</td>\n",
              "      <td>참누리아파트.기산중학교</td>\n",
              "      <td>37.219533</td>\n",
              "      <td>127.051650</td>\n",
              "      <td>187.0</td>\n",
              "    </tr>\n",
              "    <tr>\n",
              "      <th>15</th>\n",
              "      <td>3032</td>\n",
              "      <td>4108028.0</td>\n",
              "      <td>성지산업</td>\n",
              "      <td>37.221267</td>\n",
              "      <td>127.059683</td>\n",
              "      <td>172.0</td>\n",
              "    </tr>\n",
              "    <tr>\n",
              "      <th>16</th>\n",
              "      <td>3848</td>\n",
              "      <td>4197662.0</td>\n",
              "      <td>반월초등학교</td>\n",
              "      <td>37.222900</td>\n",
              "      <td>127.061800</td>\n",
              "      <td>278.0</td>\n",
              "    </tr>\n",
              "    <tr>\n",
              "      <th>17</th>\n",
              "      <td>4533</td>\n",
              "      <td>4170271.0</td>\n",
              "      <td>병점사거리</td>\n",
              "      <td>37.208383</td>\n",
              "      <td>127.034433</td>\n",
              "      <td>431.0</td>\n",
              "    </tr>\n",
              "    <tr>\n",
              "      <th>18</th>\n",
              "      <td>5783</td>\n",
              "      <td>4199077.0</td>\n",
              "      <td>동탄이마트.한림대병원</td>\n",
              "      <td>37.214033</td>\n",
              "      <td>127.077933</td>\n",
              "      <td>455.0</td>\n",
              "    </tr>\n",
              "    <tr>\n",
              "      <th>19</th>\n",
              "      <td>6291</td>\n",
              "      <td>4195716.0</td>\n",
              "      <td>다은마을(중)</td>\n",
              "      <td>37.200417</td>\n",
              "      <td>127.067300</td>\n",
              "      <td>508.0</td>\n",
              "    </tr>\n",
              "  </tbody>\n",
              "</table>\n",
              "</div>"
            ],
            "text/plain": [
              "    Unnamed: 0  이비카드정류장ID          정류장이름         위도          경도     횟수\n",
              "0          316  4197607.0  서동탄역신일해피트리(중)  37.199500  127.052483  317.0\n",
              "1          808  4197590.0  솔빛마을.서해.쌍용아파트  37.195817  127.069633  304.0\n",
              "2         1143  4116691.0        안녕농협삼거리  37.205217  127.014700  335.0\n",
              "3         1649  4117227.0          수원대학교  37.213750  126.980150  506.0\n",
              "4         2030  4197467.0        한빛마을(중)  37.207567  127.069200  381.0\n",
              "5         2520  4116682.0   광도와이드빌.우남그린빌  37.226583  126.971883  490.0\n",
              "6         3084  4170937.0     동탄2동행정복지센터  37.196417  127.072883  450.0\n",
              "7         3720  4130058.0      신안2차.반도4차  37.200017  127.115967  366.0\n",
              "8         4017  4170995.0          능리교차로  37.219117  127.057233  297.0\n",
              "9         4345  4197554.0           쌍용예가  37.193500  127.071800  328.0\n",
              "10         199  4108007.0        병점화남아파트  37.211967  127.037550  200.0\n",
              "11         685  4108036.0   신영통현대타운.두산위브  37.235467  127.062467  399.0\n",
              "12        1803  4117226.0          수원대학교  37.213750  126.979967  964.0\n",
              "13        2400  4170943.0  상록.경남아파트.이주택지  37.206833  127.110567  412.0\n",
              "14        2642  4170921.0   참누리아파트.기산중학교  37.219533  127.051650  187.0\n",
              "15        3032  4108028.0           성지산업  37.221267  127.059683  172.0\n",
              "16        3848  4197662.0         반월초등학교  37.222900  127.061800  278.0\n",
              "17        4533  4170271.0          병점사거리  37.208383  127.034433  431.0\n",
              "18        5783  4199077.0    동탄이마트.한림대병원  37.214033  127.077933  455.0\n",
              "19        6291  4195716.0        다은마을(중)  37.200417  127.067300  508.0"
            ]
          },
          "metadata": {
            "tags": []
          },
          "execution_count": 14
        }
      ]
    },
    {
      "cell_type": "code",
      "metadata": {
        "id": "xlXylgji2ktK"
      },
      "source": [
        "subset = merge_79[['위도', '경도']]\n",
        "tuple_merge79 = [tuple(x) for x in subset.to_numpy()]\n",
        "\n",
        "# 위도 경도 정보를 튜플형태 리스트로"
      ],
      "execution_count": null,
      "outputs": []
    },
    {
      "cell_type": "code",
      "metadata": {
        "id": "DPnj1zZh2ktM"
      },
      "source": [
        "fitness_coords = mlrose.TravellingSales(coords = tuple_merge79)"
      ],
      "execution_count": null,
      "outputs": []
    },
    {
      "cell_type": "code",
      "metadata": {
        "id": "1pz9j-sV2ktP"
      },
      "source": [
        "problem_fit = mlrose.TSPOpt(length=20, fitness_fn = fitness_coords, maximize=False)"
      ],
      "execution_count": null,
      "outputs": []
    },
    {
      "cell_type": "code",
      "metadata": {
        "id": "T8szXN8Z2ktR",
        "outputId": "9e359532-c896-4349-c13d-5d8f6093eedb"
      },
      "source": [
        "best_state, best_fitness = mlrose.genetic_alg(problem_fit, random_state = 2)\n",
        "\n",
        "print('The best state found is: \\n', best_state)\n",
        "# the order of visiting, the number is the index of the dataframe\n",
        "print('The fitness at the best state is:\\n ', best_fitness)"
      ],
      "execution_count": null,
      "outputs": [
        {
          "output_type": "stream",
          "text": [
            "The best state found is: \n",
            " [16  4 12  5  3  2 17  8 11 13  7  6 18 14  0 19 10  9 15  1]\n",
            "The fitness at the best state is:\n",
            "  0.5794672547645526\n"
          ],
          "name": "stdout"
        }
      ]
    },
    {
      "cell_type": "code",
      "metadata": {
        "id": "vJZWjfSt2ktU"
      },
      "source": [
        "import folium \n",
        "import folium.plugins\n",
        "\n",
        "# folium for visualization"
      ],
      "execution_count": null,
      "outputs": []
    },
    {
      "cell_type": "code",
      "metadata": {
        "id": "LBrE-yRE2ktW"
      },
      "source": [
        "latitude = 37.136881\n",
        "longitude = 127.036171\n",
        "\n",
        "# 화성시 위도경도"
      ],
      "execution_count": null,
      "outputs": []
    },
    {
      "cell_type": "code",
      "metadata": {
        "id": "bgwhyur32ktZ"
      },
      "source": [
        "m = folium.Map(location=[latitude, longitude], zoom_start=12)"
      ],
      "execution_count": null,
      "outputs": []
    },
    {
      "cell_type": "code",
      "metadata": {
        "id": "cAUIi8Fv2ktb"
      },
      "source": [
        "# best_state: index 순서\n",
        "# on_79 df 사용해서 folium에 길 그리기\n",
        "\n",
        "# reindex using the tsp result\n",
        "new_index = best_state\n",
        "replaced = merge_79.reindex(new_index)"
      ],
      "execution_count": null,
      "outputs": []
    },
    {
      "cell_type": "code",
      "metadata": {
        "id": "imstO_fP2ktd",
        "outputId": "ef1d31fc-45bd-45ce-8e10-55702d9bf873"
      },
      "source": [
        "replaced.head()\n",
        "# replaced dataframe은 TSP 알고리즘에서 방문 순서대로"
      ],
      "execution_count": null,
      "outputs": [
        {
          "output_type": "execute_result",
          "data": {
            "text/html": [
              "<div>\n",
              "<style scoped>\n",
              "    .dataframe tbody tr th:only-of-type {\n",
              "        vertical-align: middle;\n",
              "    }\n",
              "\n",
              "    .dataframe tbody tr th {\n",
              "        vertical-align: top;\n",
              "    }\n",
              "\n",
              "    .dataframe thead th {\n",
              "        text-align: right;\n",
              "    }\n",
              "</style>\n",
              "<table border=\"1\" class=\"dataframe\">\n",
              "  <thead>\n",
              "    <tr style=\"text-align: right;\">\n",
              "      <th></th>\n",
              "      <th>Unnamed: 0</th>\n",
              "      <th>이비카드정류장ID</th>\n",
              "      <th>정류장이름</th>\n",
              "      <th>위도</th>\n",
              "      <th>경도</th>\n",
              "      <th>횟수</th>\n",
              "    </tr>\n",
              "  </thead>\n",
              "  <tbody>\n",
              "    <tr>\n",
              "      <th>16</th>\n",
              "      <td>3848</td>\n",
              "      <td>4197662.0</td>\n",
              "      <td>반월초등학교</td>\n",
              "      <td>37.222900</td>\n",
              "      <td>127.061800</td>\n",
              "      <td>278.0</td>\n",
              "    </tr>\n",
              "    <tr>\n",
              "      <th>4</th>\n",
              "      <td>2030</td>\n",
              "      <td>4197467.0</td>\n",
              "      <td>한빛마을(중)</td>\n",
              "      <td>37.207567</td>\n",
              "      <td>127.069200</td>\n",
              "      <td>381.0</td>\n",
              "    </tr>\n",
              "    <tr>\n",
              "      <th>12</th>\n",
              "      <td>1803</td>\n",
              "      <td>4117226.0</td>\n",
              "      <td>수원대학교</td>\n",
              "      <td>37.213750</td>\n",
              "      <td>126.979967</td>\n",
              "      <td>964.0</td>\n",
              "    </tr>\n",
              "    <tr>\n",
              "      <th>5</th>\n",
              "      <td>2520</td>\n",
              "      <td>4116682.0</td>\n",
              "      <td>광도와이드빌.우남그린빌</td>\n",
              "      <td>37.226583</td>\n",
              "      <td>126.971883</td>\n",
              "      <td>490.0</td>\n",
              "    </tr>\n",
              "    <tr>\n",
              "      <th>3</th>\n",
              "      <td>1649</td>\n",
              "      <td>4117227.0</td>\n",
              "      <td>수원대학교</td>\n",
              "      <td>37.213750</td>\n",
              "      <td>126.980150</td>\n",
              "      <td>506.0</td>\n",
              "    </tr>\n",
              "  </tbody>\n",
              "</table>\n",
              "</div>"
            ],
            "text/plain": [
              "    Unnamed: 0  이비카드정류장ID         정류장이름         위도          경도     횟수\n",
              "16        3848  4197662.0        반월초등학교  37.222900  127.061800  278.0\n",
              "4         2030  4197467.0       한빛마을(중)  37.207567  127.069200  381.0\n",
              "12        1803  4117226.0         수원대학교  37.213750  126.979967  964.0\n",
              "5         2520  4116682.0  광도와이드빌.우남그린빌  37.226583  126.971883  490.0\n",
              "3         1649  4117227.0         수원대학교  37.213750  126.980150  506.0"
            ]
          },
          "metadata": {
            "tags": []
          },
          "execution_count": 23
        }
      ]
    },
    {
      "cell_type": "code",
      "metadata": {
        "id": "5L8tP6F52ktg",
        "outputId": "1a5f71a7-6b36-4888-c56b-ae9907a7679f"
      },
      "source": [
        "# make list of longitude and latitude to draw routes in folium\n",
        "locations = replaced[['위도', '경도']]\n",
        "locationlist = locations.values.tolist()\n",
        "len(locationlist)\n",
        "# locationlist[0]"
      ],
      "execution_count": null,
      "outputs": [
        {
          "output_type": "execute_result",
          "data": {
            "text/plain": [
              "20"
            ]
          },
          "metadata": {
            "tags": []
          },
          "execution_count": 24
        }
      ]
    },
    {
      "cell_type": "code",
      "metadata": {
        "id": "tARTzuMR2kti",
        "outputId": "ea492a0d-8f77-43cb-cdd2-5f03ee9dac5d"
      },
      "source": [
        "import pandas as pd\n",
        "import requests\n",
        "from xml.etree import ElementTree\n",
        "import numpy as np\n",
        "import folium\n",
        "i=1\n",
        "\n",
        "for point in range(0, len(locationlist)):\n",
        "    # i: 방문순서, pop-up에 커서를 대면 순서가 나온다.\n",
        "    folium.Marker(locationlist[point], i).add_to(m)\n",
        "    i = i+1\n",
        "m\n",
        "\n",
        "# draw lines\n",
        "# add lines\n",
        "folium.PolyLine(locationlist, color=\"purple\", weight=2.5, opacity=1).add_to(m)"
      ],
      "execution_count": null,
      "outputs": [
        {
          "output_type": "execute_result",
          "data": {
            "text/plain": [
              "<folium.vector_layers.PolyLine at 0x7f371cbe4ac8>"
            ]
          },
          "metadata": {
            "tags": []
          },
          "execution_count": 25
        }
      ]
    },
    {
      "cell_type": "code",
      "metadata": {
        "scrolled": true,
        "id": "ckUHy5wT2ktl",
        "outputId": "23496db5-567c-4c48-c4be-dc4be9ad546b"
      },
      "source": [
        "m"
      ],
      "execution_count": null,
      "outputs": [
        {
          "output_type": "execute_result",
          "data": {
            "text/html": [
              "<div style=\"width:100%;\"><div style=\"position:relative;width:100%;height:0;padding-bottom:60%;\"><span style=\"color:#565656\">Make this Notebook Trusted to load map: File -> Trust Notebook</span><iframe src=\"about:blank\" style=\"position:absolute;width:100%;height:100%;left:0;top:0;border:none !important;\" data-html=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 onload=\"this.contentDocument.open();this.contentDocument.write(atob(this.getAttribute('data-html')));this.contentDocument.close();\" allowfullscreen webkitallowfullscreen mozallowfullscreen></iframe></div></div>"
            ],
            "text/plain": [
              "<folium.folium.Map at 0x7f371cc1dac8>"
            ]
          },
          "metadata": {
            "tags": []
          },
          "execution_count": 26
        }
      ]
    },
    {
      "cell_type": "code",
      "metadata": {
        "id": "IczlObXF2ktp"
      },
      "source": [
        "m.save('index.html')"
      ],
      "execution_count": null,
      "outputs": []
    }
  ]
}