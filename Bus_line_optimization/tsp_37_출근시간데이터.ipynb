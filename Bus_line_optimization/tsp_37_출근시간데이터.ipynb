{
  "nbformat": 4,
  "nbformat_minor": 0,
  "metadata": {
    "kernelspec": {
      "display_name": "Python 3",
      "language": "python",
      "name": "python3"
    },
    "language_info": {
      "codemirror_mode": {
        "name": "ipython",
        "version": 3
      },
      "file_extension": ".py",
      "mimetype": "text/x-python",
      "name": "python",
      "nbconvert_exporter": "python",
      "pygments_lexer": "ipython3",
      "version": "3.8.2"
    },
    "colab": {
      "name": "tsp_37_출근시간데이터.ipynb",
      "provenance": []
    }
  },
  "cells": [
    {
      "cell_type": "code",
      "metadata": {
        "id": "537cJTRL0yGA"
      },
      "source": [
        "import pandas as pd\n",
        "import mlrose\n",
        "import numpy as np\n",
        "\n",
        "# 참고 사이트: https://towardsdatascience.com/solving-travelling-salesperson-problems-with-python-5de7e883d847"
      ],
      "execution_count": null,
      "outputs": []
    },
    {
      "cell_type": "code",
      "metadata": {
        "id": "rL_pXync0yGE",
        "outputId": "eecc4a90-7cd0-4012-c5d4-f43d85c4fc59"
      },
      "source": [
        "on_79 = pd.read_csv(\"point_79_on.csv\")\n",
        "on_79.head()\n",
        "# 출근시간 가장 많이 탑승하는 데이터 가지고 분석\n",
        "# 지금은 이렇게 하지만, 추후 출근-퇴근 둘을 섞어서 분석할 예정\n",
        "# 아닌가? 다람쥐버스면 차라리 한곳을 지나는버스가 더 나을수도\n",
        "# 디익스트라 사용하는게 출퇴근 둘다 사용하고, 이런 다람쥐버스는 그냥 한 지역 도는게 나을수도 있겠다.\n",
        "# 조금 더 고민해볼 예정"
      ],
      "execution_count": null,
      "outputs": [
        {
          "output_type": "execute_result",
          "data": {
            "text/html": [
              "<div>\n",
              "<style scoped>\n",
              "    .dataframe tbody tr th:only-of-type {\n",
              "        vertical-align: middle;\n",
              "    }\n",
              "\n",
              "    .dataframe tbody tr th {\n",
              "        vertical-align: top;\n",
              "    }\n",
              "\n",
              "    .dataframe thead th {\n",
              "        text-align: right;\n",
              "    }\n",
              "</style>\n",
              "<table border=\"1\" class=\"dataframe\">\n",
              "  <thead>\n",
              "    <tr style=\"text-align: right;\">\n",
              "      <th></th>\n",
              "      <th>Unnamed: 0</th>\n",
              "      <th>이비카드정류장ID</th>\n",
              "      <th>정류장이름</th>\n",
              "      <th>위도</th>\n",
              "      <th>경도</th>\n",
              "      <th>횟수</th>\n",
              "    </tr>\n",
              "  </thead>\n",
              "  <tbody>\n",
              "    <tr>\n",
              "      <th>0</th>\n",
              "      <td>316</td>\n",
              "      <td>4197607.0</td>\n",
              "      <td>서동탄역신일해피트리(중)</td>\n",
              "      <td>37.199500</td>\n",
              "      <td>127.052483</td>\n",
              "      <td>317.0</td>\n",
              "    </tr>\n",
              "    <tr>\n",
              "      <th>1</th>\n",
              "      <td>808</td>\n",
              "      <td>4197590.0</td>\n",
              "      <td>솔빛마을.서해.쌍용아파트</td>\n",
              "      <td>37.195817</td>\n",
              "      <td>127.069633</td>\n",
              "      <td>304.0</td>\n",
              "    </tr>\n",
              "    <tr>\n",
              "      <th>2</th>\n",
              "      <td>1143</td>\n",
              "      <td>4116691.0</td>\n",
              "      <td>안녕농협삼거리</td>\n",
              "      <td>37.205217</td>\n",
              "      <td>127.014700</td>\n",
              "      <td>335.0</td>\n",
              "    </tr>\n",
              "    <tr>\n",
              "      <th>3</th>\n",
              "      <td>1649</td>\n",
              "      <td>4117227.0</td>\n",
              "      <td>수원대학교</td>\n",
              "      <td>37.213750</td>\n",
              "      <td>126.980150</td>\n",
              "      <td>506.0</td>\n",
              "    </tr>\n",
              "    <tr>\n",
              "      <th>4</th>\n",
              "      <td>2030</td>\n",
              "      <td>4197467.0</td>\n",
              "      <td>한빛마을(중)</td>\n",
              "      <td>37.207567</td>\n",
              "      <td>127.069200</td>\n",
              "      <td>381.0</td>\n",
              "    </tr>\n",
              "  </tbody>\n",
              "</table>\n",
              "</div>"
            ],
            "text/plain": [
              "   Unnamed: 0  이비카드정류장ID          정류장이름         위도          경도     횟수\n",
              "0         316  4197607.0  서동탄역신일해피트리(중)  37.199500  127.052483  317.0\n",
              "1         808  4197590.0  솔빛마을.서해.쌍용아파트  37.195817  127.069633  304.0\n",
              "2        1143  4116691.0        안녕농협삼거리  37.205217  127.014700  335.0\n",
              "3        1649  4117227.0          수원대학교  37.213750  126.980150  506.0\n",
              "4        2030  4197467.0        한빛마을(중)  37.207567  127.069200  381.0"
            ]
          },
          "metadata": {
            "tags": []
          },
          "execution_count": 22
        }
      ]
    },
    {
      "cell_type": "code",
      "metadata": {
        "id": "HMQj6Hal0yGH"
      },
      "source": [
        "#화성,병점권에 있는 정류장들만 선별\n",
        "un_hsbj = on_79[on_79['경도']<127.03].index\n",
        "on_79 = on_79.drop(un_hsbj)\n",
        "on_79 = on_79.reset_index(drop=True)"
      ],
      "execution_count": null,
      "outputs": []
    },
    {
      "cell_type": "code",
      "metadata": {
        "id": "6l9rC4dR0yGK"
      },
      "source": [
        "subset = on_79[['위도', '경도']]\n",
        "tuple_on79 = [tuple(x) for x in subset.to_numpy()]\n",
        "\n",
        "# 위도 경도 정보를 튜플형태 리스트로"
      ],
      "execution_count": null,
      "outputs": []
    },
    {
      "cell_type": "code",
      "metadata": {
        "id": "KiTvNozT0yGM"
      },
      "source": [
        "fitness_coords = mlrose.TravellingSales(coords = tuple_on79)"
      ],
      "execution_count": null,
      "outputs": []
    },
    {
      "cell_type": "code",
      "metadata": {
        "id": "avZLk6JC0yGP"
      },
      "source": [
        "problem_fit = mlrose.TSPOpt(length=37, fitness_fn = fitness_coords, maximize=False)"
      ],
      "execution_count": null,
      "outputs": []
    },
    {
      "cell_type": "code",
      "metadata": {
        "id": "cYCJ4Gu80yGR",
        "outputId": "c4d88036-c3c6-49e1-d1a1-07007322e764"
      },
      "source": [
        "best_state, best_fitness = mlrose.genetic_alg(problem_fit, random_state = 2)\n",
        "\n",
        "print('The best state found is: \\n', best_state)\n",
        "# the order of visiting, the number is the index of the dataframe\n",
        "print('The fitness at the best state is:\\n ', best_fitness)"
      ],
      "execution_count": null,
      "outputs": [
        {
          "output_type": "stream",
          "text": [
            "The best state found is: \n",
            " [11 23  2 31 19 18 22  5 26 35  1 10 24 17  8  6 13 21 36  3 14 15 12 32\n",
            " 16 20 27 29  4 33 28 34  7 25  9  0 30]\n",
            "The fitness at the best state is:\n",
            "  0.9866180126496746\n"
          ],
          "name": "stdout"
        }
      ]
    },
    {
      "cell_type": "code",
      "metadata": {
        "id": "x5TrpemT0yGU"
      },
      "source": [
        "import folium \n",
        "import folium.plugins\n",
        "\n",
        "# folium for visualization"
      ],
      "execution_count": null,
      "outputs": []
    },
    {
      "cell_type": "code",
      "metadata": {
        "id": "onX4wwez0yGX"
      },
      "source": [
        "latitude = 37.136881\n",
        "longitude = 127.036171\n",
        "\n",
        "# 화성시 위도경도"
      ],
      "execution_count": null,
      "outputs": []
    },
    {
      "cell_type": "code",
      "metadata": {
        "id": "2fEcLg4g0yGZ"
      },
      "source": [
        "m = folium.Map(location=[latitude, longitude], zoom_start=12)"
      ],
      "execution_count": null,
      "outputs": []
    },
    {
      "cell_type": "code",
      "metadata": {
        "scrolled": true,
        "id": "CJJAam330yGc",
        "outputId": "664ddcf4-5be0-403c-8d71-100af06f5407"
      },
      "source": [
        "# best_state: index 순서\n",
        "# on_79 df 사용해서 folium에 길 그리기\n",
        "\n",
        "# reindex using the tsp result\n",
        "new_index = best_state\n",
        "replaced = on_79.reindex(new_index)\n",
        "replaced.head()"
      ],
      "execution_count": null,
      "outputs": [
        {
          "output_type": "execute_result",
          "data": {
            "text/html": [
              "<div>\n",
              "<style scoped>\n",
              "    .dataframe tbody tr th:only-of-type {\n",
              "        vertical-align: middle;\n",
              "    }\n",
              "\n",
              "    .dataframe tbody tr th {\n",
              "        vertical-align: top;\n",
              "    }\n",
              "\n",
              "    .dataframe thead th {\n",
              "        text-align: right;\n",
              "    }\n",
              "</style>\n",
              "<table border=\"1\" class=\"dataframe\">\n",
              "  <thead>\n",
              "    <tr style=\"text-align: right;\">\n",
              "      <th></th>\n",
              "      <th>Unnamed: 0</th>\n",
              "      <th>이비카드정류장ID</th>\n",
              "      <th>정류장이름</th>\n",
              "      <th>위도</th>\n",
              "      <th>경도</th>\n",
              "      <th>횟수</th>\n",
              "    </tr>\n",
              "  </thead>\n",
              "  <tbody>\n",
              "    <tr>\n",
              "      <th>11</th>\n",
              "      <td>7623</td>\n",
              "      <td>4170264.0</td>\n",
              "      <td>대우푸르지오</td>\n",
              "      <td>37.228950</td>\n",
              "      <td>127.046050</td>\n",
              "      <td>303.0</td>\n",
              "    </tr>\n",
              "    <tr>\n",
              "      <th>23</th>\n",
              "      <td>24592</td>\n",
              "      <td>4151723.0</td>\n",
              "      <td>우남아파트</td>\n",
              "      <td>37.199367</td>\n",
              "      <td>127.048517</td>\n",
              "      <td>293.0</td>\n",
              "    </tr>\n",
              "    <tr>\n",
              "      <th>2</th>\n",
              "      <td>2030</td>\n",
              "      <td>4197467.0</td>\n",
              "      <td>한빛마을(중)</td>\n",
              "      <td>37.207567</td>\n",
              "      <td>127.069200</td>\n",
              "      <td>381.0</td>\n",
              "    </tr>\n",
              "    <tr>\n",
              "      <th>31</th>\n",
              "      <td>32966</td>\n",
              "      <td>4170723.0</td>\n",
              "      <td>우남퍼스트빌</td>\n",
              "      <td>37.203167</td>\n",
              "      <td>127.098600</td>\n",
              "      <td>312.0</td>\n",
              "    </tr>\n",
              "    <tr>\n",
              "      <th>19</th>\n",
              "      <td>19151</td>\n",
              "      <td>4121008.0</td>\n",
              "      <td>이주택지.상록.경남아파트</td>\n",
              "      <td>37.207217</td>\n",
              "      <td>127.110683</td>\n",
              "      <td>338.0</td>\n",
              "    </tr>\n",
              "  </tbody>\n",
              "</table>\n",
              "</div>"
            ],
            "text/plain": [
              "    Unnamed: 0  이비카드정류장ID          정류장이름         위도          경도     횟수\n",
              "11        7623  4170264.0         대우푸르지오  37.228950  127.046050  303.0\n",
              "23       24592  4151723.0          우남아파트  37.199367  127.048517  293.0\n",
              "2         2030  4197467.0        한빛마을(중)  37.207567  127.069200  381.0\n",
              "31       32966  4170723.0         우남퍼스트빌  37.203167  127.098600  312.0\n",
              "19       19151  4121008.0  이주택지.상록.경남아파트  37.207217  127.110683  338.0"
            ]
          },
          "metadata": {
            "tags": []
          },
          "execution_count": 31
        }
      ]
    },
    {
      "cell_type": "code",
      "metadata": {
        "scrolled": true,
        "id": "yd-Tiwzs0yGe",
        "outputId": "c26000bc-825e-4e36-87b7-5454228737fc"
      },
      "source": [
        "replaced.head()\n",
        "# replaced dataframe은 TSP 알고리즘에서 방문 순서대로"
      ],
      "execution_count": null,
      "outputs": [
        {
          "output_type": "execute_result",
          "data": {
            "text/html": [
              "<div>\n",
              "<style scoped>\n",
              "    .dataframe tbody tr th:only-of-type {\n",
              "        vertical-align: middle;\n",
              "    }\n",
              "\n",
              "    .dataframe tbody tr th {\n",
              "        vertical-align: top;\n",
              "    }\n",
              "\n",
              "    .dataframe thead th {\n",
              "        text-align: right;\n",
              "    }\n",
              "</style>\n",
              "<table border=\"1\" class=\"dataframe\">\n",
              "  <thead>\n",
              "    <tr style=\"text-align: right;\">\n",
              "      <th></th>\n",
              "      <th>Unnamed: 0</th>\n",
              "      <th>이비카드정류장ID</th>\n",
              "      <th>정류장이름</th>\n",
              "      <th>위도</th>\n",
              "      <th>경도</th>\n",
              "      <th>횟수</th>\n",
              "    </tr>\n",
              "  </thead>\n",
              "  <tbody>\n",
              "    <tr>\n",
              "      <th>11</th>\n",
              "      <td>7623</td>\n",
              "      <td>4170264.0</td>\n",
              "      <td>대우푸르지오</td>\n",
              "      <td>37.228950</td>\n",
              "      <td>127.046050</td>\n",
              "      <td>303.0</td>\n",
              "    </tr>\n",
              "    <tr>\n",
              "      <th>23</th>\n",
              "      <td>24592</td>\n",
              "      <td>4151723.0</td>\n",
              "      <td>우남아파트</td>\n",
              "      <td>37.199367</td>\n",
              "      <td>127.048517</td>\n",
              "      <td>293.0</td>\n",
              "    </tr>\n",
              "    <tr>\n",
              "      <th>2</th>\n",
              "      <td>2030</td>\n",
              "      <td>4197467.0</td>\n",
              "      <td>한빛마을(중)</td>\n",
              "      <td>37.207567</td>\n",
              "      <td>127.069200</td>\n",
              "      <td>381.0</td>\n",
              "    </tr>\n",
              "    <tr>\n",
              "      <th>31</th>\n",
              "      <td>32966</td>\n",
              "      <td>4170723.0</td>\n",
              "      <td>우남퍼스트빌</td>\n",
              "      <td>37.203167</td>\n",
              "      <td>127.098600</td>\n",
              "      <td>312.0</td>\n",
              "    </tr>\n",
              "    <tr>\n",
              "      <th>19</th>\n",
              "      <td>19151</td>\n",
              "      <td>4121008.0</td>\n",
              "      <td>이주택지.상록.경남아파트</td>\n",
              "      <td>37.207217</td>\n",
              "      <td>127.110683</td>\n",
              "      <td>338.0</td>\n",
              "    </tr>\n",
              "  </tbody>\n",
              "</table>\n",
              "</div>"
            ],
            "text/plain": [
              "    Unnamed: 0  이비카드정류장ID          정류장이름         위도          경도     횟수\n",
              "11        7623  4170264.0         대우푸르지오  37.228950  127.046050  303.0\n",
              "23       24592  4151723.0          우남아파트  37.199367  127.048517  293.0\n",
              "2         2030  4197467.0        한빛마을(중)  37.207567  127.069200  381.0\n",
              "31       32966  4170723.0         우남퍼스트빌  37.203167  127.098600  312.0\n",
              "19       19151  4121008.0  이주택지.상록.경남아파트  37.207217  127.110683  338.0"
            ]
          },
          "metadata": {
            "tags": []
          },
          "execution_count": 32
        }
      ]
    },
    {
      "cell_type": "code",
      "metadata": {
        "id": "tcs6uLEk0yGg",
        "outputId": "62cc73c9-da8b-4e7c-c790-391d7c26b6cd"
      },
      "source": [
        "# make list of longitude and latitude to draw routes in folium\n",
        "locations = replaced[['위도', '경도']]\n",
        "locationlist = locations.values.tolist()\n",
        "len(locationlist)\n",
        "# locationlist[0]"
      ],
      "execution_count": null,
      "outputs": [
        {
          "output_type": "execute_result",
          "data": {
            "text/plain": [
              "37"
            ]
          },
          "metadata": {
            "tags": []
          },
          "execution_count": 33
        }
      ]
    },
    {
      "cell_type": "code",
      "metadata": {
        "id": "KkTaJGyQ0yGk",
        "outputId": "26c1f274-4e29-4e73-9dfd-9f3ad774ac2c"
      },
      "source": [
        "import pandas as pd\n",
        "import requests\n",
        "from xml.etree import ElementTree\n",
        "import numpy as np\n",
        "import folium\n",
        "i=1\n",
        "\n",
        "for point in range(0, len(locationlist)):\n",
        "    # i: 방문순서, pop-up에 커서를 대면 순서가 나온다.\n",
        "    folium.Marker(locationlist[point], i).add_to(m)\n",
        "    i = i+1\n",
        "m\n",
        "\n",
        "# draw lines\n",
        "# add lines\n",
        "folium.PolyLine(locationlist, color=\"purple\", weight=2.5, opacity=1).add_to(m)"
      ],
      "execution_count": null,
      "outputs": [
        {
          "output_type": "execute_result",
          "data": {
            "text/plain": [
              "<folium.vector_layers.PolyLine at 0x7fcdbc97c0d0>"
            ]
          },
          "metadata": {
            "tags": []
          },
          "execution_count": 34
        }
      ]
    },
    {
      "cell_type": "code",
      "metadata": {
        "id": "JwWuo5HK0yGo"
      },
      "source": [
        "m.save('index.html')"
      ],
      "execution_count": null,
      "outputs": []
    }
  ]
}